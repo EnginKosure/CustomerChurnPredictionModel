{
 "metadata": {
  "language_info": {
   "codemirror_mode": {
    "name": "ipython",
    "version": 3
   },
   "file_extension": ".py",
   "mimetype": "text/x-python",
   "name": "python",
   "nbconvert_exporter": "python",
   "pygments_lexer": "ipython3",
   "version": "3.8.5-final"
  },
  "orig_nbformat": 2,
  "kernelspec": {
   "name": "python3",
   "display_name": "Python 3",
   "language": "python"
  }
 },
 "nbformat": 4,
 "nbformat_minor": 2,
 "cells": [
  {
   "cell_type": "code",
   "execution_count": 5,
   "metadata": {},
   "outputs": [],
   "source": [
    "import pandas as pd \n",
    "import numpy as np \n",
    "import seaborn as sns \n",
    "import matplotlib.pyplot as plt\n",
    "import pandas_profiling\n",
    "from sklearn.preprocessing import StandardScaler\n",
    "from pandas.plotting import scatter_matrix\n",
    "%matplotlib inline\n",
    "\n",
    "from sklearn.ensemble import RandomForestClassifier, AdaBoostClassifier, GradientBoostingClassifier, ExtraTreesClassifier, VotingClassifier\n",
    "from sklearn.discriminant_analysis import LinearDiscriminantAnalysis\n",
    "from sklearn.linear_model import LogisticRegression\n",
    "from sklearn.neighbors import KNeighborsClassifier\n",
    "from sklearn.tree import DecisionTreeClassifier\n",
    "import xgboost\n",
    "from sklearn.svm import SVC\n",
    "from sklearn.model_selection import GridSearchCV, cross_val_score, StratifiedKFold, learning_curve,KFold\n",
    "from sklearn.model_selection import RandomizedSearchCV\n",
    "from sklearn.metrics import confusion_matrix\n",
    "from sklearn.metrics import classification_report\n",
    "from sklearn.metrics import roc_auc_score\n",
    "from sklearn.metrics import roc_curve,auc\n",
    "from mlxtend.classifier import StackingCVClassifier\n",
    "from scipy import stats\n",
    "from sklearn.preprocessing import MinMaxScaler"
   ]
  },
  {
   "cell_type": "code",
   "execution_count": 6,
   "metadata": {},
   "outputs": [
    {
     "output_type": "stream",
     "name": "stdout",
     "text": [
      "['data_preprocess.ipynb', '.DS_Store', 'LICENSE', 'NewData-Telco-Customer-Retention.csv', 'data_clean.ipynb', 'data_prep_test1.ipynb', 'Train-Test-Telco-Customer-Retention.csv', 'README.md', '.gitignore', '.git', 'WA_Fn-UseC_-Telco-Customer-Churn.csv']\n"
     ]
    }
   ],
   "source": [
    "# Loading the data set into a pandas data frame\n",
    "\n",
    "df=pd.read_csv('Train-Test-Telco-Customer-Retention.csv')\n",
    "\n",
    "print(os.listdir(\"./\"))"
   ]
  },
  {
   "cell_type": "code",
   "execution_count": 7,
   "metadata": {},
   "outputs": [
    {
     "output_type": "stream",
     "name": "stdout",
     "text": [
      "<class 'pandas.core.frame.DataFrame'>\nRangeIndex: 7000 entries, 0 to 6999\nData columns (total 21 columns):\n #   Column            Non-Null Count  Dtype  \n---  ------            --------------  -----  \n 0   customerID        7000 non-null   object \n 1   gender            7000 non-null   object \n 2   SeniorCitizen     7000 non-null   int64  \n 3   Partner           7000 non-null   object \n 4   Dependents        7000 non-null   object \n 5   tenure            7000 non-null   int64  \n 6   PhoneService      7000 non-null   object \n 7   MultipleLines     7000 non-null   object \n 8   InternetService   7000 non-null   object \n 9   OnlineSecurity    7000 non-null   object \n 10  OnlineBackup      7000 non-null   object \n 11  DeviceProtection  7000 non-null   object \n 12  TechSupport       7000 non-null   object \n 13  StreamingTV       7000 non-null   object \n 14  StreamingMovies   7000 non-null   object \n 15  Contract          7000 non-null   object \n 16  PaperlessBilling  7000 non-null   object \n 17  PaymentMethod     7000 non-null   object \n 18  MonthlyCharges    7000 non-null   float64\n 19  TotalCharges      7000 non-null   float64\n 20  Churn             7000 non-null   object \ndtypes: float64(2), int64(2), object(17)\nmemory usage: 1.1+ MB\n"
     ]
    }
   ],
   "source": [
    "df.info()"
   ]
  },
  {
   "cell_type": "code",
   "execution_count": null,
   "metadata": {},
   "outputs": [],
   "source": []
  }
 ]
}